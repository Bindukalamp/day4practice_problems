{
  "nbformat": 4,
  "nbformat_minor": 0,
  "metadata": {
    "colab": {
      "provenance": []
    },
    "kernelspec": {
      "name": "python3",
      "display_name": "Python 3"
    },
    "language_info": {
      "name": "python"
    }
  },
  "cells": [
    {
      "cell_type": "markdown",
      "source": [
        "1.Write an interactive Python Program to implement following “Guess Game”\n",
        "\n",
        "i. Think of a number between 1 and 10 and store it in a variable called \"secretNumber\".\n",
        "\n",
        "ii. Ask the user to enter a number between 1 and 10 and store it in a variable called \"guess\".\n",
        "\n",
        "iii. Use control statements (if-else) to check if the guess is correct, higher, or lower than the secret number.\n",
        "\n",
        "iv. Display appropriate messages to the user based on their guess:\n",
        "\n",
        "• If the guess is correct, display \"Congratulations! You guessed the number correctly!\"\n",
        "\n",
        "• If the guess is higher than the secret number, display \"Too high! Try again.\"\n",
        "\n",
        "• If the guess is lower than the secret number, display \"Too low! T"
      ],
      "metadata": {
        "id": "C5yiYH07ce79"
      }
    },
    {
      "cell_type": "code",
      "execution_count": 3,
      "metadata": {
        "colab": {
          "base_uri": "https://localhost:8080/"
        },
        "id": "PJE5JM_tTODj",
        "outputId": "6515de52-1f6c-40a9-eddf-af2e2b41adee"
      },
      "outputs": [
        {
          "output_type": "stream",
          "name": "stdout",
          "text": [
            "guess a number between 1 and 10: 5\n",
            "Congratulations!You guessed the number correctly\n"
          ]
        }
      ],
      "source": [
        "#Guess Game\n",
        "secretNumber=5\n",
        "guess=int(input('guess a number between 1 and 10: '))\n",
        "if guess==secretNumber:\n",
        "  print('Congratulations!You guessed the number correctly')\n",
        "elif guess>secretNumber:\n",
        "    print('Too high!Try again.')\n",
        "else:\n",
        "    print('Too low!Try again')"
      ]
    },
    {
      "cell_type": "markdown",
      "source": [
        "2.Write a program to find and print the Factorial of this number. The Factorial of a positive integer N refers to the product of all number in the range from 1 to N."
      ],
      "metadata": {
        "id": "RzjUB_dWc_UE"
      }
    },
    {
      "cell_type": "code",
      "source": [
        "N=int(input('Enter a number: '))\n",
        "factorial=1\n",
        "if N<0:\n",
        "  print('factorial doesnot exist')\n",
        "elif N==0:\n",
        " print('factorial is 1')\n",
        "else:\n",
        "  for i in range(1,N+1):\n",
        "    factorial = factorial*i\n",
        "  print(f'The factorial of {N} is {factorial}' )\n"
      ],
      "metadata": {
        "colab": {
          "base_uri": "https://localhost:8080/"
        },
        "id": "7oipVjPsVI3d",
        "outputId": "5fecaf4d-bd52-4a7f-fae5-d56bbb273738"
      },
      "execution_count": 6,
      "outputs": [
        {
          "output_type": "stream",
          "name": "stdout",
          "text": [
            "Enter a number: 3\n",
            "The factorial of 3 is 6\n"
          ]
        }
      ]
    },
    {
      "cell_type": "markdown",
      "source": [
        "3.Roy wants to change his profile picture on Facebook. Now Facebook has some restriction over the dimension of picture that we can upload. Minimum dimension of the picture can be L x L, where L is the length of the side of square. Now Roy has N photos of various dimensions. Dimension of a photo is denoted as W x H where W - width of the photo and H - Height of the photo • When any photo is uploaded following events may occur:\n",
        "[1] If any of the width or height is less than L, user is prompted to upload another one. Print \"UPLOAD ANOTHER\" in this case.\n",
        "\n",
        "[2] If width and height, both are large enough and\n",
        " (a) if the photo is already square then it is accepted. Print \"ACCEPTED\" in this case.\n",
        "  (b) else user is prompted to crop it. Print \"CROP IT\" in this case.\n",
        "  \n",
        "   Given L, N, W and H as input, write a program to print appropriate text as output."
      ],
      "metadata": {
        "id": "ve5WWP33deU7"
      }
    },
    {
      "cell_type": "code",
      "source": [
        "L=int(input('What is the minimum dimension of picture as per facebook restriction? '))\n",
        "N=int(input('How many pictures you want to upload? '))\n",
        "for i in range(1,N+1):\n",
        "  W=int(input('Enter the width of photo:'))\n",
        "  H=int(input('Enter the height of photo:'))\n",
        "  if W<L or H<L:\n",
        "   print('UPLOAD ANOTHER PHOTO')\n",
        "  elif W==L and H==L:\n",
        "   print(\"ACCEPTED\")\n",
        "  else:\n",
        "   print('CROP IT')\n"
      ],
      "metadata": {
        "colab": {
          "base_uri": "https://localhost:8080/"
        },
        "id": "mLftmX89CR_m",
        "outputId": "4ae43c0b-12d1-4f76-95d0-5417837d54de"
      },
      "execution_count": 7,
      "outputs": [
        {
          "output_type": "stream",
          "name": "stdout",
          "text": [
            "What is the minimum dimension of picture as per facebook restriction? 9\n",
            "How many pictures you want to upload? 3\n",
            "Enter the width of photo:4\n",
            "Enter the height of photo:9\n",
            "UPLOAD ANOTHER PHOTO\n",
            "Enter the width of photo:9\n",
            "Enter the height of photo:9\n",
            "ACCEPTED\n",
            "Enter the width of photo:13\n",
            "Enter the height of photo:9\n",
            "CROP IT\n"
          ]
        }
      ]
    }
  ]
}